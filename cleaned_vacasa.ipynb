{
 "cells": [
  {
   "cell_type": "markdown",
   "metadata": {},
   "source": [
    "#### Part 1- cleaned data"
   ]
  },
  {
   "cell_type": "code",
   "execution_count": 1,
   "metadata": {},
   "outputs": [],
   "source": [
    "# Dependencies and Setup\n",
    "import matplotlib.pyplot as plt\n",
    "import pandas as pd\n",
    "import scipy.stats as st\n",
    "import numpy as np\n",
    "import seaborn as sns\n"
   ]
  },
  {
   "cell_type": "markdown",
   "metadata": {},
   "source": [
    "#### Question 1:\n",
    "\n",
    "#### How many total reservations are in this dataset (cleaned)? \n",
    "72,456"
   ]
  },
  {
   "cell_type": "code",
   "execution_count": 24,
   "metadata": {},
   "outputs": [
    {
     "data": {
      "text/html": [
       "<div>\n",
       "<style scoped>\n",
       "    .dataframe tbody tr th:only-of-type {\n",
       "        vertical-align: middle;\n",
       "    }\n",
       "\n",
       "    .dataframe tbody tr th {\n",
       "        vertical-align: top;\n",
       "    }\n",
       "\n",
       "    .dataframe thead th {\n",
       "        text-align: right;\n",
       "    }\n",
       "</style>\n",
       "<table border=\"1\" class=\"dataframe\">\n",
       "  <thead>\n",
       "    <tr style=\"text-align: right;\">\n",
       "      <th></th>\n",
       "      <th>Unnamed: 0</th>\n",
       "      <th>unit_id</th>\n",
       "      <th>check_in_date</th>\n",
       "      <th>check_out_date</th>\n",
       "      <th>reservation_type</th>\n",
       "      <th>reservation_source_type</th>\n",
       "      <th>reservation_created_date</th>\n",
       "      <th>adult_guests</th>\n",
       "      <th>child_guests</th>\n",
       "      <th>pets</th>\n",
       "      <th>total_paid</th>\n",
       "      <th>city_name</th>\n",
       "      <th>zip5</th>\n",
       "      <th>state_name_short</th>\n",
       "      <th>region_name_short</th>\n",
       "    </tr>\n",
       "  </thead>\n",
       "  <tbody>\n",
       "    <tr>\n",
       "      <th>0</th>\n",
       "      <td>0</td>\n",
       "      <td>40630</td>\n",
       "      <td>1/1/2018</td>\n",
       "      <td>1/3/2018</td>\n",
       "      <td>guest</td>\n",
       "      <td>unknown</td>\n",
       "      <td>1/1/2018</td>\n",
       "      <td>2</td>\n",
       "      <td>0</td>\n",
       "      <td>0</td>\n",
       "      <td>1930</td>\n",
       "      <td>Vail</td>\n",
       "      <td>81657</td>\n",
       "      <td>CO</td>\n",
       "      <td>Vail / Beaver Creek</td>\n",
       "    </tr>\n",
       "    <tr>\n",
       "      <th>1</th>\n",
       "      <td>1</td>\n",
       "      <td>40630</td>\n",
       "      <td>1/3/2018</td>\n",
       "      <td>1/7/2018</td>\n",
       "      <td>guest</td>\n",
       "      <td>unknown</td>\n",
       "      <td>1/3/2018</td>\n",
       "      <td>2</td>\n",
       "      <td>0</td>\n",
       "      <td>0</td>\n",
       "      <td>2969</td>\n",
       "      <td>Vail</td>\n",
       "      <td>81657</td>\n",
       "      <td>CO</td>\n",
       "      <td>Vail / Beaver Creek</td>\n",
       "    </tr>\n",
       "    <tr>\n",
       "      <th>2</th>\n",
       "      <td>2</td>\n",
       "      <td>40630</td>\n",
       "      <td>1/11/2018</td>\n",
       "      <td>1/15/2018</td>\n",
       "      <td>guest</td>\n",
       "      <td>unknown</td>\n",
       "      <td>9/29/2017</td>\n",
       "      <td>2</td>\n",
       "      <td>0</td>\n",
       "      <td>0</td>\n",
       "      <td>12913</td>\n",
       "      <td>Vail</td>\n",
       "      <td>81657</td>\n",
       "      <td>CO</td>\n",
       "      <td>Vail / Beaver Creek</td>\n",
       "    </tr>\n",
       "    <tr>\n",
       "      <th>3</th>\n",
       "      <td>3</td>\n",
       "      <td>40630</td>\n",
       "      <td>1/15/2018</td>\n",
       "      <td>1/18/2018</td>\n",
       "      <td>owner</td>\n",
       "      <td>unknown</td>\n",
       "      <td>1/15/2018</td>\n",
       "      <td>2</td>\n",
       "      <td>0</td>\n",
       "      <td>0</td>\n",
       "      <td>60</td>\n",
       "      <td>Vail</td>\n",
       "      <td>81657</td>\n",
       "      <td>CO</td>\n",
       "      <td>Vail / Beaver Creek</td>\n",
       "    </tr>\n",
       "    <tr>\n",
       "      <th>4</th>\n",
       "      <td>4</td>\n",
       "      <td>40630</td>\n",
       "      <td>1/20/2018</td>\n",
       "      <td>1/21/2018</td>\n",
       "      <td>guest</td>\n",
       "      <td>unknown</td>\n",
       "      <td>1/17/2018</td>\n",
       "      <td>2</td>\n",
       "      <td>0</td>\n",
       "      <td>0</td>\n",
       "      <td>515</td>\n",
       "      <td>Vail</td>\n",
       "      <td>81657</td>\n",
       "      <td>CO</td>\n",
       "      <td>Vail / Beaver Creek</td>\n",
       "    </tr>\n",
       "    <tr>\n",
       "      <th>...</th>\n",
       "      <td>...</td>\n",
       "      <td>...</td>\n",
       "      <td>...</td>\n",
       "      <td>...</td>\n",
       "      <td>...</td>\n",
       "      <td>...</td>\n",
       "      <td>...</td>\n",
       "      <td>...</td>\n",
       "      <td>...</td>\n",
       "      <td>...</td>\n",
       "      <td>...</td>\n",
       "      <td>...</td>\n",
       "      <td>...</td>\n",
       "      <td>...</td>\n",
       "      <td>...</td>\n",
       "    </tr>\n",
       "    <tr>\n",
       "      <th>72451</th>\n",
       "      <td>92536</td>\n",
       "      <td>21239</td>\n",
       "      <td>3/9/2019</td>\n",
       "      <td>3/13/2019</td>\n",
       "      <td>guest</td>\n",
       "      <td>3rd Party Channel Reservation</td>\n",
       "      <td>2/17/2019</td>\n",
       "      <td>4</td>\n",
       "      <td>0</td>\n",
       "      <td>0</td>\n",
       "      <td>1300</td>\n",
       "      <td>Galveston</td>\n",
       "      <td>77554</td>\n",
       "      <td>TX</td>\n",
       "      <td>The Texas Gulf Coast</td>\n",
       "    </tr>\n",
       "    <tr>\n",
       "      <th>72452</th>\n",
       "      <td>92538</td>\n",
       "      <td>21239</td>\n",
       "      <td>3/21/2019</td>\n",
       "      <td>3/24/2019</td>\n",
       "      <td>guest</td>\n",
       "      <td>3rd Party Channel Reservation</td>\n",
       "      <td>3/20/2019</td>\n",
       "      <td>4</td>\n",
       "      <td>0</td>\n",
       "      <td>0</td>\n",
       "      <td>661</td>\n",
       "      <td>Galveston</td>\n",
       "      <td>77554</td>\n",
       "      <td>TX</td>\n",
       "      <td>The Texas Gulf Coast</td>\n",
       "    </tr>\n",
       "    <tr>\n",
       "      <th>72453</th>\n",
       "      <td>92540</td>\n",
       "      <td>21239</td>\n",
       "      <td>4/9/2019</td>\n",
       "      <td>4/12/2019</td>\n",
       "      <td>guest</td>\n",
       "      <td>3rd Party Channel Reservation</td>\n",
       "      <td>4/8/2019</td>\n",
       "      <td>2</td>\n",
       "      <td>0</td>\n",
       "      <td>0</td>\n",
       "      <td>340</td>\n",
       "      <td>Galveston</td>\n",
       "      <td>77554</td>\n",
       "      <td>TX</td>\n",
       "      <td>The Texas Gulf Coast</td>\n",
       "    </tr>\n",
       "    <tr>\n",
       "      <th>72454</th>\n",
       "      <td>92541</td>\n",
       "      <td>21239</td>\n",
       "      <td>4/12/2019</td>\n",
       "      <td>4/14/2019</td>\n",
       "      <td>guest</td>\n",
       "      <td>Vacasa</td>\n",
       "      <td>4/8/2019</td>\n",
       "      <td>2</td>\n",
       "      <td>1</td>\n",
       "      <td>0</td>\n",
       "      <td>245</td>\n",
       "      <td>Galveston</td>\n",
       "      <td>77554</td>\n",
       "      <td>TX</td>\n",
       "      <td>The Texas Gulf Coast</td>\n",
       "    </tr>\n",
       "    <tr>\n",
       "      <th>72455</th>\n",
       "      <td>92542</td>\n",
       "      <td>21239</td>\n",
       "      <td>4/14/2019</td>\n",
       "      <td>4/16/2019</td>\n",
       "      <td>guest</td>\n",
       "      <td>3rd Party Channel Reservation</td>\n",
       "      <td>4/8/2019</td>\n",
       "      <td>6</td>\n",
       "      <td>0</td>\n",
       "      <td>0</td>\n",
       "      <td>287</td>\n",
       "      <td>Galveston</td>\n",
       "      <td>77554</td>\n",
       "      <td>TX</td>\n",
       "      <td>The Texas Gulf Coast</td>\n",
       "    </tr>\n",
       "  </tbody>\n",
       "</table>\n",
       "<p>72456 rows × 15 columns</p>\n",
       "</div>"
      ],
      "text/plain": [
       "       Unnamed: 0  unit_id check_in_date check_out_date reservation_type  \\\n",
       "0               0    40630      1/1/2018       1/3/2018            guest   \n",
       "1               1    40630      1/3/2018       1/7/2018            guest   \n",
       "2               2    40630     1/11/2018      1/15/2018            guest   \n",
       "3               3    40630     1/15/2018      1/18/2018            owner   \n",
       "4               4    40630     1/20/2018      1/21/2018            guest   \n",
       "...           ...      ...           ...            ...              ...   \n",
       "72451       92536    21239      3/9/2019      3/13/2019            guest   \n",
       "72452       92538    21239     3/21/2019      3/24/2019            guest   \n",
       "72453       92540    21239      4/9/2019      4/12/2019            guest   \n",
       "72454       92541    21239     4/12/2019      4/14/2019            guest   \n",
       "72455       92542    21239     4/14/2019      4/16/2019            guest   \n",
       "\n",
       "             reservation_source_type reservation_created_date  adult_guests  \\\n",
       "0                            unknown                 1/1/2018             2   \n",
       "1                            unknown                 1/3/2018             2   \n",
       "2                            unknown                9/29/2017             2   \n",
       "3                            unknown                1/15/2018             2   \n",
       "4                            unknown                1/17/2018             2   \n",
       "...                              ...                      ...           ...   \n",
       "72451  3rd Party Channel Reservation                2/17/2019             4   \n",
       "72452  3rd Party Channel Reservation                3/20/2019             4   \n",
       "72453  3rd Party Channel Reservation                 4/8/2019             2   \n",
       "72454                         Vacasa                 4/8/2019             2   \n",
       "72455  3rd Party Channel Reservation                 4/8/2019             6   \n",
       "\n",
       "       child_guests  pets  total_paid  city_name   zip5 state_name_short  \\\n",
       "0                 0     0        1930       Vail  81657               CO   \n",
       "1                 0     0        2969       Vail  81657               CO   \n",
       "2                 0     0       12913       Vail  81657               CO   \n",
       "3                 0     0          60       Vail  81657               CO   \n",
       "4                 0     0         515       Vail  81657               CO   \n",
       "...             ...   ...         ...        ...    ...              ...   \n",
       "72451             0     0        1300  Galveston  77554               TX   \n",
       "72452             0     0         661  Galveston  77554               TX   \n",
       "72453             0     0         340  Galveston  77554               TX   \n",
       "72454             1     0         245  Galveston  77554               TX   \n",
       "72455             0     0         287  Galveston  77554               TX   \n",
       "\n",
       "          region_name_short  \n",
       "0       Vail / Beaver Creek  \n",
       "1       Vail / Beaver Creek  \n",
       "2       Vail / Beaver Creek  \n",
       "3       Vail / Beaver Creek  \n",
       "4       Vail / Beaver Creek  \n",
       "...                     ...  \n",
       "72451  The Texas Gulf Coast  \n",
       "72452  The Texas Gulf Coast  \n",
       "72453  The Texas Gulf Coast  \n",
       "72454  The Texas Gulf Coast  \n",
       "72455  The Texas Gulf Coast  \n",
       "\n",
       "[72456 rows x 15 columns]"
      ]
     },
     "execution_count": 24,
     "metadata": {},
     "output_type": "execute_result"
    }
   ],
   "source": [
    "# Import the data/csv file & preview\n",
    "df = pd.read_csv(\"cleaned_data2.csv\")\n",
    "df = df.dropna()\n",
    "df = df.reset_index(drop=True)\n",
    "\n",
    "original = pd.read_csv(\"cleaned_data2.csv\")\n",
    "original = df.dropna()\n",
    "original = df.reset_index(drop=True)\n",
    "\n",
    "df"
   ]
  },
  {
   "cell_type": "markdown",
   "metadata": {},
   "source": [
    "#### Question 2:\n",
    "\n",
    "#### What's the number of units that had a reservation? \n",
    "2,125"
   ]
  },
  {
   "cell_type": "code",
   "execution_count": 3,
   "metadata": {},
   "outputs": [
    {
     "data": {
      "text/plain": [
       "9131     157\n",
       "11033    146\n",
       "6309     145\n",
       "17653    143\n",
       "40618    143\n",
       "        ... \n",
       "31087      1\n",
       "31237      1\n",
       "9107       1\n",
       "30653      1\n",
       "17594      1\n",
       "Name: unit_id, Length: 2125, dtype: int64"
      ]
     },
     "execution_count": 3,
     "metadata": {},
     "output_type": "execute_result"
    }
   ],
   "source": [
    "df['unit_id'].value_counts()"
   ]
  },
  {
   "cell_type": "markdown",
   "metadata": {},
   "source": [
    "#### Question 3:\n",
    "\n",
    "#### How many reservations in Vail?\n",
    "\n",
    "Vail / Beaver Creek: 674 reservations"
   ]
  },
  {
   "cell_type": "code",
   "execution_count": 4,
   "metadata": {},
   "outputs": [
    {
     "data": {
      "text/plain": [
       "region_name_short\n",
       "Delaware                939\n",
       "The Texas Gulf Coast    512\n",
       "Vail / Beaver Creek     674\n",
       "Name: unit_id, dtype: int64"
      ]
     },
     "execution_count": 4,
     "metadata": {},
     "output_type": "execute_result"
    }
   ],
   "source": [
    "# Get count of reservations at Vail / Beaver Creek\n",
    "# Reservations & Unit Countsd\n",
    "region_unit = df.groupby(by=\"region_name_short\")[\"unit_id\"].nunique()\n",
    "region_unit"
   ]
  },
  {
   "cell_type": "markdown",
   "metadata": {},
   "source": [
    "\n",
    "#### Question 4: \n",
    "\n",
    "#### How many check-in's were there in Vail in March of 2019?\n",
    "\n",
    "Need assistance completing this in Pandas. "
   ]
  },
  {
   "cell_type": "code",
   "execution_count": 14,
   "metadata": {},
   "outputs": [],
   "source": [
    "# Empty"
   ]
  },
  {
   "cell_type": "markdown",
   "metadata": {},
   "source": [
    "#### Question 5: \n",
    "\n",
    "#### What % of reservations had children?\n",
    "\n",
    "67.54% "
   ]
  },
  {
   "cell_type": "code",
   "execution_count": 16,
   "metadata": {},
   "outputs": [
    {
     "data": {
      "text/plain": [
       "0.6753615987633874"
      ]
     },
     "execution_count": 16,
     "metadata": {},
     "output_type": "execute_result"
    }
   ],
   "source": [
    "avg_child = df['child_guests'].mean()\n",
    "avg_child"
   ]
  },
  {
   "cell_type": "markdown",
   "metadata": {},
   "source": [
    "#### Question 6:\n",
    "\n",
    "#### What's the average number of children on a reservation? \n",
    "\n",
    "1"
   ]
  },
  {
   "cell_type": "code",
   "execution_count": 17,
   "metadata": {},
   "outputs": [
    {
     "data": {
      "text/plain": [
       "48934"
      ]
     },
     "execution_count": 17,
     "metadata": {},
     "output_type": "execute_result"
    }
   ],
   "source": [
    "# Get value count of # of children guests \n",
    "child_sum = df['child_guests'].sum()\n",
    "child_sum"
   ]
  },
  {
   "cell_type": "code",
   "execution_count": 19,
   "metadata": {},
   "outputs": [
    {
     "data": {
      "text/plain": [
       "1.480658015735159"
      ]
     },
     "execution_count": 19,
     "metadata": {},
     "output_type": "execute_result"
    }
   ],
   "source": [
    "# Divide # of reservations / # of children \n",
    "res_by_child = np.true_divide(72456, 48935)\n",
    "res_by_child"
   ]
  },
  {
   "cell_type": "markdown",
   "metadata": {},
   "source": [
    "#### Question 7:\n",
    "\n",
    "#### Complete table with Reservations & Unit Counts\n",
    "\n",
    "   #### Reservations|  Units \n",
    "        \n",
    " Texas-     26,351  |  512\n",
    " \n",
    " Delaware-  20,373  |  939\n",
    " \n",
    " Vail-      25,732  |  674"
   ]
  },
  {
   "cell_type": "code",
   "execution_count": 20,
   "metadata": {},
   "outputs": [
    {
     "data": {
      "text/plain": [
       "region_name_short\n",
       "Delaware                939\n",
       "The Texas Gulf Coast    512\n",
       "Vail / Beaver Creek     674\n",
       "Name: unit_id, dtype: int64"
      ]
     },
     "execution_count": 20,
     "metadata": {},
     "output_type": "execute_result"
    }
   ],
   "source": [
    "# Reservations & Unit Counts\n",
    "res_unit_counts = df.groupby(by=\"region_name_short\")[\"unit_id\"].nunique()\n",
    "res_unit_counts"
   ]
  },
  {
   "cell_type": "code",
   "execution_count": 21,
   "metadata": {},
   "outputs": [
    {
     "data": {
      "text/plain": [
       "The Texas Gulf Coast    26351\n",
       "Vail / Beaver Creek     25732\n",
       "Delaware                20373\n",
       "Name: region_name_short, dtype: int64"
      ]
     },
     "execution_count": 21,
     "metadata": {},
     "output_type": "execute_result"
    }
   ],
   "source": [
    "# Get count of reservations at Vail / Beaver Creek\n",
    "vail_res = df['region_name_short'].value_counts()\n",
    "vail_res"
   ]
  },
  {
   "cell_type": "markdown",
   "metadata": {},
   "source": [
    "#### Question 8:\n",
    "\n",
    "#### Total # of check-ins by month in each market\n",
    "\n",
    "Need assistance completing this in Pandas."
   ]
  },
  {
   "cell_type": "code",
   "execution_count": 26,
   "metadata": {},
   "outputs": [],
   "source": [
    " # Empty"
   ]
  },
  {
   "cell_type": "markdown",
   "metadata": {},
   "source": [
    "#### Question 9:\n",
    "\n",
    "#### Calculate the average daily rate (ADR) for all reservations\n",
    "\n",
    "Mean/Average = $1642 "
   ]
  },
  {
   "cell_type": "code",
   "execution_count": 28,
   "metadata": {},
   "outputs": [
    {
     "data": {
      "text/plain": [
       "count    72456.000000\n",
       "mean      1641.652851\n",
       "std       1938.210321\n",
       "min     -42400.000000\n",
       "25%        563.000000\n",
       "50%       1071.000000\n",
       "75%       2099.000000\n",
       "max      78084.000000\n",
       "Name: total_paid, dtype: float64"
      ]
     },
     "execution_count": 28,
     "metadata": {},
     "output_type": "execute_result"
    }
   ],
   "source": [
    "adr_avg= original['total_paid'].describe()\n",
    "adr_avg"
   ]
  },
  {
   "cell_type": "markdown",
   "metadata": {},
   "source": [
    "#### Question 10:\n",
    "\n",
    "#### ADR per region\n",
    "(Looking at Mean column)\n",
    "\n",
    "Texas- $928\n",
    "\n",
    "Delaware- $2351\n",
    "\n",
    "Vail- $1810"
   ]
  },
  {
   "cell_type": "code",
   "execution_count": 29,
   "metadata": {},
   "outputs": [
    {
     "data": {
      "text/html": [
       "<div>\n",
       "<style scoped>\n",
       "    .dataframe tbody tr th:only-of-type {\n",
       "        vertical-align: middle;\n",
       "    }\n",
       "\n",
       "    .dataframe tbody tr th {\n",
       "        vertical-align: top;\n",
       "    }\n",
       "\n",
       "    .dataframe thead th {\n",
       "        text-align: right;\n",
       "    }\n",
       "</style>\n",
       "<table border=\"1\" class=\"dataframe\">\n",
       "  <thead>\n",
       "    <tr style=\"text-align: right;\">\n",
       "      <th></th>\n",
       "      <th>count</th>\n",
       "      <th>mean</th>\n",
       "      <th>std</th>\n",
       "      <th>min</th>\n",
       "      <th>25%</th>\n",
       "      <th>50%</th>\n",
       "      <th>75%</th>\n",
       "      <th>max</th>\n",
       "    </tr>\n",
       "    <tr>\n",
       "      <th>region_name_short</th>\n",
       "      <th></th>\n",
       "      <th></th>\n",
       "      <th></th>\n",
       "      <th></th>\n",
       "      <th></th>\n",
       "      <th></th>\n",
       "      <th></th>\n",
       "      <th></th>\n",
       "    </tr>\n",
       "  </thead>\n",
       "  <tbody>\n",
       "    <tr>\n",
       "      <th>Delaware</th>\n",
       "      <td>20373.0</td>\n",
       "      <td>2351.074952</td>\n",
       "      <td>1743.770274</td>\n",
       "      <td>-80.0</td>\n",
       "      <td>1219.0</td>\n",
       "      <td>2001.0</td>\n",
       "      <td>3002.0</td>\n",
       "      <td>36920.0</td>\n",
       "    </tr>\n",
       "    <tr>\n",
       "      <th>The Texas Gulf Coast</th>\n",
       "      <td>26351.0</td>\n",
       "      <td>928.372282</td>\n",
       "      <td>739.429614</td>\n",
       "      <td>22.0</td>\n",
       "      <td>467.0</td>\n",
       "      <td>722.0</td>\n",
       "      <td>1167.0</td>\n",
       "      <td>30164.0</td>\n",
       "    </tr>\n",
       "    <tr>\n",
       "      <th>Vail / Beaver Creek</th>\n",
       "      <td>25732.0</td>\n",
       "      <td>1810.415475</td>\n",
       "      <td>2581.259608</td>\n",
       "      <td>-42400.0</td>\n",
       "      <td>460.0</td>\n",
       "      <td>994.0</td>\n",
       "      <td>2220.0</td>\n",
       "      <td>78084.0</td>\n",
       "    </tr>\n",
       "  </tbody>\n",
       "</table>\n",
       "</div>"
      ],
      "text/plain": [
       "                        count         mean          std      min     25%  \\\n",
       "region_name_short                                                          \n",
       "Delaware              20373.0  2351.074952  1743.770274    -80.0  1219.0   \n",
       "The Texas Gulf Coast  26351.0   928.372282   739.429614     22.0   467.0   \n",
       "Vail / Beaver Creek   25732.0  1810.415475  2581.259608 -42400.0   460.0   \n",
       "\n",
       "                         50%     75%      max  \n",
       "region_name_short                              \n",
       "Delaware              2001.0  3002.0  36920.0  \n",
       "The Texas Gulf Coast   722.0  1167.0  30164.0  \n",
       "Vail / Beaver Creek    994.0  2220.0  78084.0  "
      ]
     },
     "execution_count": 29,
     "metadata": {},
     "output_type": "execute_result"
    }
   ],
   "source": [
    "original.groupby(by=\"region_name_short\")[\"total_paid\"].describe()"
   ]
  },
  {
   "cell_type": "markdown",
   "metadata": {},
   "source": [
    "#### Question 11: \n",
    "\n",
    "#### Was there any notable data cleansing work that you did in order to complete the above question? \n",
    "\n",
    "In the uncleaned_vacasa notebook file, I removed any \"total_paid\" = $0, removed the dollar sign symbols, and removed any NaN's. "
   ]
  }
 ],
 "metadata": {
  "kernelspec": {
   "display_name": "Python [conda env:PythonData] *",
   "language": "python",
   "name": "conda-env-PythonData-py"
  },
  "language_info": {
   "codemirror_mode": {
    "name": "ipython",
    "version": 3
   },
   "file_extension": ".py",
   "mimetype": "text/x-python",
   "name": "python",
   "nbconvert_exporter": "python",
   "pygments_lexer": "ipython3",
   "version": "3.6.10"
  }
 },
 "nbformat": 4,
 "nbformat_minor": 4
}
