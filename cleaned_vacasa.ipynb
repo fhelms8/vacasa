{
 "cells": [
  {
   "cell_type": "code",
   "execution_count": 1,
   "metadata": {},
   "outputs": [],
   "source": [
    "# Dependencies and Setup\n",
    "import matplotlib.pyplot as plt\n",
    "import pandas as pd\n",
    "import scipy.stats as st\n",
    "import numpy as np\n",
    "import seaborn as sns\n"
   ]
  },
  {
   "cell_type": "code",
   "execution_count": 2,
   "metadata": {},
   "outputs": [
    {
     "data": {
      "text/html": [
       "<div>\n",
       "<style scoped>\n",
       "    .dataframe tbody tr th:only-of-type {\n",
       "        vertical-align: middle;\n",
       "    }\n",
       "\n",
       "    .dataframe tbody tr th {\n",
       "        vertical-align: top;\n",
       "    }\n",
       "\n",
       "    .dataframe thead th {\n",
       "        text-align: right;\n",
       "    }\n",
       "</style>\n",
       "<table border=\"1\" class=\"dataframe\">\n",
       "  <thead>\n",
       "    <tr style=\"text-align: right;\">\n",
       "      <th></th>\n",
       "      <th>Unnamed: 0</th>\n",
       "      <th>unit_id</th>\n",
       "      <th>check_in_date</th>\n",
       "      <th>check_out_date</th>\n",
       "      <th>reservation_type</th>\n",
       "      <th>reservation_source_type</th>\n",
       "      <th>reservation_created_date</th>\n",
       "      <th>adult_guests</th>\n",
       "      <th>child_guests</th>\n",
       "      <th>pets</th>\n",
       "      <th>total_paid</th>\n",
       "      <th>city_name</th>\n",
       "      <th>zip5</th>\n",
       "      <th>state_name_short</th>\n",
       "      <th>region_name_short</th>\n",
       "    </tr>\n",
       "  </thead>\n",
       "  <tbody>\n",
       "    <tr>\n",
       "      <th>0</th>\n",
       "      <td>0</td>\n",
       "      <td>40630</td>\n",
       "      <td>1/1/2018</td>\n",
       "      <td>1/3/2018</td>\n",
       "      <td>guest</td>\n",
       "      <td>unknown</td>\n",
       "      <td>1/1/2018</td>\n",
       "      <td>2</td>\n",
       "      <td>0</td>\n",
       "      <td>0</td>\n",
       "      <td>1930</td>\n",
       "      <td>Vail</td>\n",
       "      <td>81657</td>\n",
       "      <td>CO</td>\n",
       "      <td>Vail / Beaver Creek</td>\n",
       "    </tr>\n",
       "    <tr>\n",
       "      <th>1</th>\n",
       "      <td>1</td>\n",
       "      <td>40630</td>\n",
       "      <td>1/3/2018</td>\n",
       "      <td>1/7/2018</td>\n",
       "      <td>guest</td>\n",
       "      <td>unknown</td>\n",
       "      <td>1/3/2018</td>\n",
       "      <td>2</td>\n",
       "      <td>0</td>\n",
       "      <td>0</td>\n",
       "      <td>2969</td>\n",
       "      <td>Vail</td>\n",
       "      <td>81657</td>\n",
       "      <td>CO</td>\n",
       "      <td>Vail / Beaver Creek</td>\n",
       "    </tr>\n",
       "    <tr>\n",
       "      <th>2</th>\n",
       "      <td>2</td>\n",
       "      <td>40630</td>\n",
       "      <td>1/11/2018</td>\n",
       "      <td>1/15/2018</td>\n",
       "      <td>guest</td>\n",
       "      <td>unknown</td>\n",
       "      <td>9/29/2017</td>\n",
       "      <td>2</td>\n",
       "      <td>0</td>\n",
       "      <td>0</td>\n",
       "      <td>12913</td>\n",
       "      <td>Vail</td>\n",
       "      <td>81657</td>\n",
       "      <td>CO</td>\n",
       "      <td>Vail / Beaver Creek</td>\n",
       "    </tr>\n",
       "    <tr>\n",
       "      <th>3</th>\n",
       "      <td>3</td>\n",
       "      <td>40630</td>\n",
       "      <td>1/15/2018</td>\n",
       "      <td>1/18/2018</td>\n",
       "      <td>owner</td>\n",
       "      <td>unknown</td>\n",
       "      <td>1/15/2018</td>\n",
       "      <td>2</td>\n",
       "      <td>0</td>\n",
       "      <td>0</td>\n",
       "      <td>60</td>\n",
       "      <td>Vail</td>\n",
       "      <td>81657</td>\n",
       "      <td>CO</td>\n",
       "      <td>Vail / Beaver Creek</td>\n",
       "    </tr>\n",
       "    <tr>\n",
       "      <th>4</th>\n",
       "      <td>4</td>\n",
       "      <td>40630</td>\n",
       "      <td>1/20/2018</td>\n",
       "      <td>1/21/2018</td>\n",
       "      <td>guest</td>\n",
       "      <td>unknown</td>\n",
       "      <td>1/17/2018</td>\n",
       "      <td>2</td>\n",
       "      <td>0</td>\n",
       "      <td>0</td>\n",
       "      <td>515</td>\n",
       "      <td>Vail</td>\n",
       "      <td>81657</td>\n",
       "      <td>CO</td>\n",
       "      <td>Vail / Beaver Creek</td>\n",
       "    </tr>\n",
       "    <tr>\n",
       "      <th>...</th>\n",
       "      <td>...</td>\n",
       "      <td>...</td>\n",
       "      <td>...</td>\n",
       "      <td>...</td>\n",
       "      <td>...</td>\n",
       "      <td>...</td>\n",
       "      <td>...</td>\n",
       "      <td>...</td>\n",
       "      <td>...</td>\n",
       "      <td>...</td>\n",
       "      <td>...</td>\n",
       "      <td>...</td>\n",
       "      <td>...</td>\n",
       "      <td>...</td>\n",
       "      <td>...</td>\n",
       "    </tr>\n",
       "    <tr>\n",
       "      <th>72451</th>\n",
       "      <td>92536</td>\n",
       "      <td>21239</td>\n",
       "      <td>3/9/2019</td>\n",
       "      <td>3/13/2019</td>\n",
       "      <td>guest</td>\n",
       "      <td>3rd Party Channel Reservation</td>\n",
       "      <td>2/17/2019</td>\n",
       "      <td>4</td>\n",
       "      <td>0</td>\n",
       "      <td>0</td>\n",
       "      <td>1300</td>\n",
       "      <td>Galveston</td>\n",
       "      <td>77554</td>\n",
       "      <td>TX</td>\n",
       "      <td>The Texas Gulf Coast</td>\n",
       "    </tr>\n",
       "    <tr>\n",
       "      <th>72452</th>\n",
       "      <td>92538</td>\n",
       "      <td>21239</td>\n",
       "      <td>3/21/2019</td>\n",
       "      <td>3/24/2019</td>\n",
       "      <td>guest</td>\n",
       "      <td>3rd Party Channel Reservation</td>\n",
       "      <td>3/20/2019</td>\n",
       "      <td>4</td>\n",
       "      <td>0</td>\n",
       "      <td>0</td>\n",
       "      <td>661</td>\n",
       "      <td>Galveston</td>\n",
       "      <td>77554</td>\n",
       "      <td>TX</td>\n",
       "      <td>The Texas Gulf Coast</td>\n",
       "    </tr>\n",
       "    <tr>\n",
       "      <th>72453</th>\n",
       "      <td>92540</td>\n",
       "      <td>21239</td>\n",
       "      <td>4/9/2019</td>\n",
       "      <td>4/12/2019</td>\n",
       "      <td>guest</td>\n",
       "      <td>3rd Party Channel Reservation</td>\n",
       "      <td>4/8/2019</td>\n",
       "      <td>2</td>\n",
       "      <td>0</td>\n",
       "      <td>0</td>\n",
       "      <td>340</td>\n",
       "      <td>Galveston</td>\n",
       "      <td>77554</td>\n",
       "      <td>TX</td>\n",
       "      <td>The Texas Gulf Coast</td>\n",
       "    </tr>\n",
       "    <tr>\n",
       "      <th>72454</th>\n",
       "      <td>92541</td>\n",
       "      <td>21239</td>\n",
       "      <td>4/12/2019</td>\n",
       "      <td>4/14/2019</td>\n",
       "      <td>guest</td>\n",
       "      <td>Vacasa</td>\n",
       "      <td>4/8/2019</td>\n",
       "      <td>2</td>\n",
       "      <td>1</td>\n",
       "      <td>0</td>\n",
       "      <td>245</td>\n",
       "      <td>Galveston</td>\n",
       "      <td>77554</td>\n",
       "      <td>TX</td>\n",
       "      <td>The Texas Gulf Coast</td>\n",
       "    </tr>\n",
       "    <tr>\n",
       "      <th>72455</th>\n",
       "      <td>92542</td>\n",
       "      <td>21239</td>\n",
       "      <td>4/14/2019</td>\n",
       "      <td>4/16/2019</td>\n",
       "      <td>guest</td>\n",
       "      <td>3rd Party Channel Reservation</td>\n",
       "      <td>4/8/2019</td>\n",
       "      <td>6</td>\n",
       "      <td>0</td>\n",
       "      <td>0</td>\n",
       "      <td>287</td>\n",
       "      <td>Galveston</td>\n",
       "      <td>77554</td>\n",
       "      <td>TX</td>\n",
       "      <td>The Texas Gulf Coast</td>\n",
       "    </tr>\n",
       "  </tbody>\n",
       "</table>\n",
       "<p>72456 rows × 15 columns</p>\n",
       "</div>"
      ],
      "text/plain": [
       "       Unnamed: 0  unit_id check_in_date check_out_date reservation_type  \\\n",
       "0               0    40630      1/1/2018       1/3/2018            guest   \n",
       "1               1    40630      1/3/2018       1/7/2018            guest   \n",
       "2               2    40630     1/11/2018      1/15/2018            guest   \n",
       "3               3    40630     1/15/2018      1/18/2018            owner   \n",
       "4               4    40630     1/20/2018      1/21/2018            guest   \n",
       "...           ...      ...           ...            ...              ...   \n",
       "72451       92536    21239      3/9/2019      3/13/2019            guest   \n",
       "72452       92538    21239     3/21/2019      3/24/2019            guest   \n",
       "72453       92540    21239      4/9/2019      4/12/2019            guest   \n",
       "72454       92541    21239     4/12/2019      4/14/2019            guest   \n",
       "72455       92542    21239     4/14/2019      4/16/2019            guest   \n",
       "\n",
       "             reservation_source_type reservation_created_date  adult_guests  \\\n",
       "0                            unknown                 1/1/2018             2   \n",
       "1                            unknown                 1/3/2018             2   \n",
       "2                            unknown                9/29/2017             2   \n",
       "3                            unknown                1/15/2018             2   \n",
       "4                            unknown                1/17/2018             2   \n",
       "...                              ...                      ...           ...   \n",
       "72451  3rd Party Channel Reservation                2/17/2019             4   \n",
       "72452  3rd Party Channel Reservation                3/20/2019             4   \n",
       "72453  3rd Party Channel Reservation                 4/8/2019             2   \n",
       "72454                         Vacasa                 4/8/2019             2   \n",
       "72455  3rd Party Channel Reservation                 4/8/2019             6   \n",
       "\n",
       "       child_guests  pets  total_paid  city_name   zip5 state_name_short  \\\n",
       "0                 0     0        1930       Vail  81657               CO   \n",
       "1                 0     0        2969       Vail  81657               CO   \n",
       "2                 0     0       12913       Vail  81657               CO   \n",
       "3                 0     0          60       Vail  81657               CO   \n",
       "4                 0     0         515       Vail  81657               CO   \n",
       "...             ...   ...         ...        ...    ...              ...   \n",
       "72451             0     0        1300  Galveston  77554               TX   \n",
       "72452             0     0         661  Galveston  77554               TX   \n",
       "72453             0     0         340  Galveston  77554               TX   \n",
       "72454             1     0         245  Galveston  77554               TX   \n",
       "72455             0     0         287  Galveston  77554               TX   \n",
       "\n",
       "          region_name_short  \n",
       "0       Vail / Beaver Creek  \n",
       "1       Vail / Beaver Creek  \n",
       "2       Vail / Beaver Creek  \n",
       "3       Vail / Beaver Creek  \n",
       "4       Vail / Beaver Creek  \n",
       "...                     ...  \n",
       "72451  The Texas Gulf Coast  \n",
       "72452  The Texas Gulf Coast  \n",
       "72453  The Texas Gulf Coast  \n",
       "72454  The Texas Gulf Coast  \n",
       "72455  The Texas Gulf Coast  \n",
       "\n",
       "[72456 rows x 15 columns]"
      ]
     },
     "execution_count": 2,
     "metadata": {},
     "output_type": "execute_result"
    }
   ],
   "source": [
    "# Import the data/csv file & preview\n",
    "df = pd.read_csv(\"cleaned_data.csv\")\n",
    "df\n"
   ]
  },
  {
   "cell_type": "code",
   "execution_count": 3,
   "metadata": {},
   "outputs": [
    {
     "data": {
      "text/plain": [
       "9131     157\n",
       "11033    146\n",
       "6309     145\n",
       "17653    143\n",
       "40618    143\n",
       "        ... \n",
       "31087      1\n",
       "31237      1\n",
       "9107       1\n",
       "30653      1\n",
       "17594      1\n",
       "Name: unit_id, Length: 2125, dtype: int64"
      ]
     },
     "execution_count": 3,
     "metadata": {},
     "output_type": "execute_result"
    }
   ],
   "source": [
    "# Find all reservations \n",
    "df['unit_id'].value_counts()"
   ]
  },
  {
   "cell_type": "code",
   "execution_count": 4,
   "metadata": {},
   "outputs": [
    {
     "data": {
      "text/plain": [
       "count       22.000000\n",
       "mean      3293.454545\n",
       "std      11432.007692\n",
       "min          2.000000\n",
       "25%          6.000000\n",
       "50%         59.500000\n",
       "75%        692.500000\n",
       "max      53841.000000\n",
       "Name: child_guests, dtype: float64"
      ]
     },
     "execution_count": 4,
     "metadata": {},
     "output_type": "execute_result"
    }
   ],
   "source": [
    "# Get value count of # of children guests \n",
    "df['child_guests'].value_counts().describe()"
   ]
  },
  {
   "cell_type": "code",
   "execution_count": 5,
   "metadata": {},
   "outputs": [
    {
     "data": {
      "text/plain": [
       "0.7430854587611792"
      ]
     },
     "execution_count": 5,
     "metadata": {},
     "output_type": "execute_result"
    }
   ],
   "source": [
    "# Divide # of children (max = 53841) / # of reservations (72456)\n",
    "np.true_divide(53841, 72456)"
   ]
  },
  {
   "cell_type": "markdown",
   "metadata": {},
   "source": [
    "#### Cleaned data- % of reservations had children = 74.3% "
   ]
  },
  {
   "cell_type": "code",
   "execution_count": 6,
   "metadata": {},
   "outputs": [
    {
     "data": {
      "text/plain": [
       "The Texas Gulf Coast    26351\n",
       "Vail / Beaver Creek     25732\n",
       "Delaware                20373\n",
       "Name: region_name_short, dtype: int64"
      ]
     },
     "execution_count": 6,
     "metadata": {},
     "output_type": "execute_result"
    }
   ],
   "source": [
    "# Get count of reservations at Vail / Beaver Creek\n",
    "df['region_name_short'].value_counts()"
   ]
  },
  {
   "cell_type": "markdown",
   "metadata": {},
   "source": [
    "#### Delaware: 20,373 reservations\n",
    "\n",
    "#### The Texas Gulf Coast: 26,351 reservations\n",
    "\n",
    "#### Vail / Beaver Creek: 25,732 reservations"
   ]
  },
  {
   "cell_type": "code",
   "execution_count": 7,
   "metadata": {},
   "outputs": [
    {
     "data": {
      "text/html": [
       "<div>\n",
       "<style scoped>\n",
       "    .dataframe tbody tr th:only-of-type {\n",
       "        vertical-align: middle;\n",
       "    }\n",
       "\n",
       "    .dataframe tbody tr th {\n",
       "        vertical-align: top;\n",
       "    }\n",
       "\n",
       "    .dataframe thead th {\n",
       "        text-align: right;\n",
       "    }\n",
       "</style>\n",
       "<table border=\"1\" class=\"dataframe\">\n",
       "  <thead>\n",
       "    <tr style=\"text-align: right;\">\n",
       "      <th></th>\n",
       "      <th>unit_id</th>\n",
       "      <th>region_name_short</th>\n",
       "    </tr>\n",
       "  </thead>\n",
       "  <tbody>\n",
       "    <tr>\n",
       "      <th>0</th>\n",
       "      <td>40630</td>\n",
       "      <td>Vail / Beaver Creek</td>\n",
       "    </tr>\n",
       "    <tr>\n",
       "      <th>1</th>\n",
       "      <td>40630</td>\n",
       "      <td>Vail / Beaver Creek</td>\n",
       "    </tr>\n",
       "    <tr>\n",
       "      <th>2</th>\n",
       "      <td>40630</td>\n",
       "      <td>Vail / Beaver Creek</td>\n",
       "    </tr>\n",
       "    <tr>\n",
       "      <th>3</th>\n",
       "      <td>40630</td>\n",
       "      <td>Vail / Beaver Creek</td>\n",
       "    </tr>\n",
       "    <tr>\n",
       "      <th>4</th>\n",
       "      <td>40630</td>\n",
       "      <td>Vail / Beaver Creek</td>\n",
       "    </tr>\n",
       "    <tr>\n",
       "      <th>...</th>\n",
       "      <td>...</td>\n",
       "      <td>...</td>\n",
       "    </tr>\n",
       "    <tr>\n",
       "      <th>72451</th>\n",
       "      <td>21239</td>\n",
       "      <td>The Texas Gulf Coast</td>\n",
       "    </tr>\n",
       "    <tr>\n",
       "      <th>72452</th>\n",
       "      <td>21239</td>\n",
       "      <td>The Texas Gulf Coast</td>\n",
       "    </tr>\n",
       "    <tr>\n",
       "      <th>72453</th>\n",
       "      <td>21239</td>\n",
       "      <td>The Texas Gulf Coast</td>\n",
       "    </tr>\n",
       "    <tr>\n",
       "      <th>72454</th>\n",
       "      <td>21239</td>\n",
       "      <td>The Texas Gulf Coast</td>\n",
       "    </tr>\n",
       "    <tr>\n",
       "      <th>72455</th>\n",
       "      <td>21239</td>\n",
       "      <td>The Texas Gulf Coast</td>\n",
       "    </tr>\n",
       "  </tbody>\n",
       "</table>\n",
       "<p>72456 rows × 2 columns</p>\n",
       "</div>"
      ],
      "text/plain": [
       "       unit_id     region_name_short\n",
       "0        40630   Vail / Beaver Creek\n",
       "1        40630   Vail / Beaver Creek\n",
       "2        40630   Vail / Beaver Creek\n",
       "3        40630   Vail / Beaver Creek\n",
       "4        40630   Vail / Beaver Creek\n",
       "...        ...                   ...\n",
       "72451    21239  The Texas Gulf Coast\n",
       "72452    21239  The Texas Gulf Coast\n",
       "72453    21239  The Texas Gulf Coast\n",
       "72454    21239  The Texas Gulf Coast\n",
       "72455    21239  The Texas Gulf Coast\n",
       "\n",
       "[72456 rows x 2 columns]"
      ]
     },
     "execution_count": 7,
     "metadata": {},
     "output_type": "execute_result"
    }
   ],
   "source": [
    "test = df.filter(['unit_id','region_name_short'])\n",
    "test"
   ]
  },
  {
   "cell_type": "code",
   "execution_count": 8,
   "metadata": {},
   "outputs": [
    {
     "data": {
      "text/html": [
       "<div>\n",
       "<style scoped>\n",
       "    .dataframe tbody tr th:only-of-type {\n",
       "        vertical-align: middle;\n",
       "    }\n",
       "\n",
       "    .dataframe tbody tr th {\n",
       "        vertical-align: top;\n",
       "    }\n",
       "\n",
       "    .dataframe thead th {\n",
       "        text-align: right;\n",
       "    }\n",
       "</style>\n",
       "<table border=\"1\" class=\"dataframe\">\n",
       "  <thead>\n",
       "    <tr style=\"text-align: right;\">\n",
       "      <th></th>\n",
       "      <th>unit_id</th>\n",
       "      <th>region_name_short</th>\n",
       "      <th>total</th>\n",
       "    </tr>\n",
       "  </thead>\n",
       "  <tbody>\n",
       "    <tr>\n",
       "      <th>0</th>\n",
       "      <td>40630</td>\n",
       "      <td>Vail / Beaver Creek</td>\n",
       "      <td>86</td>\n",
       "    </tr>\n",
       "    <tr>\n",
       "      <th>1</th>\n",
       "      <td>40630</td>\n",
       "      <td>Vail / Beaver Creek</td>\n",
       "      <td>86</td>\n",
       "    </tr>\n",
       "    <tr>\n",
       "      <th>2</th>\n",
       "      <td>40630</td>\n",
       "      <td>Vail / Beaver Creek</td>\n",
       "      <td>86</td>\n",
       "    </tr>\n",
       "    <tr>\n",
       "      <th>3</th>\n",
       "      <td>40630</td>\n",
       "      <td>Vail / Beaver Creek</td>\n",
       "      <td>86</td>\n",
       "    </tr>\n",
       "    <tr>\n",
       "      <th>4</th>\n",
       "      <td>40630</td>\n",
       "      <td>Vail / Beaver Creek</td>\n",
       "      <td>86</td>\n",
       "    </tr>\n",
       "    <tr>\n",
       "      <th>...</th>\n",
       "      <td>...</td>\n",
       "      <td>...</td>\n",
       "      <td>...</td>\n",
       "    </tr>\n",
       "    <tr>\n",
       "      <th>72451</th>\n",
       "      <td>21239</td>\n",
       "      <td>The Texas Gulf Coast</td>\n",
       "      <td>6</td>\n",
       "    </tr>\n",
       "    <tr>\n",
       "      <th>72452</th>\n",
       "      <td>21239</td>\n",
       "      <td>The Texas Gulf Coast</td>\n",
       "      <td>6</td>\n",
       "    </tr>\n",
       "    <tr>\n",
       "      <th>72453</th>\n",
       "      <td>21239</td>\n",
       "      <td>The Texas Gulf Coast</td>\n",
       "      <td>6</td>\n",
       "    </tr>\n",
       "    <tr>\n",
       "      <th>72454</th>\n",
       "      <td>21239</td>\n",
       "      <td>The Texas Gulf Coast</td>\n",
       "      <td>6</td>\n",
       "    </tr>\n",
       "    <tr>\n",
       "      <th>72455</th>\n",
       "      <td>21239</td>\n",
       "      <td>The Texas Gulf Coast</td>\n",
       "      <td>6</td>\n",
       "    </tr>\n",
       "  </tbody>\n",
       "</table>\n",
       "<p>72456 rows × 3 columns</p>\n",
       "</div>"
      ],
      "text/plain": [
       "       unit_id     region_name_short  total\n",
       "0        40630   Vail / Beaver Creek     86\n",
       "1        40630   Vail / Beaver Creek     86\n",
       "2        40630   Vail / Beaver Creek     86\n",
       "3        40630   Vail / Beaver Creek     86\n",
       "4        40630   Vail / Beaver Creek     86\n",
       "...        ...                   ...    ...\n",
       "72451    21239  The Texas Gulf Coast      6\n",
       "72452    21239  The Texas Gulf Coast      6\n",
       "72453    21239  The Texas Gulf Coast      6\n",
       "72454    21239  The Texas Gulf Coast      6\n",
       "72455    21239  The Texas Gulf Coast      6\n",
       "\n",
       "[72456 rows x 3 columns]"
      ]
     },
     "execution_count": 8,
     "metadata": {},
     "output_type": "execute_result"
    }
   ],
   "source": [
    "test['total']=test.groupby(by='unit_id')['unit_id'].transform('count')\n",
    "test"
   ]
  },
  {
   "cell_type": "code",
   "execution_count": 9,
   "metadata": {},
   "outputs": [
    {
     "data": {
      "text/plain": [
       "region_name_short\n",
       "Delaware                939\n",
       "The Texas Gulf Coast    512\n",
       "Vail / Beaver Creek     674\n",
       "Name: unit_id, dtype: int64"
      ]
     },
     "execution_count": 9,
     "metadata": {},
     "output_type": "execute_result"
    }
   ],
   "source": [
    "# Reservations & Unit Countsd\n",
    "test.groupby(by=\"region_name_short\")[\"unit_id\"].nunique()"
   ]
  },
  {
   "cell_type": "code",
   "execution_count": 10,
   "metadata": {},
   "outputs": [
    {
     "data": {
      "text/plain": [
       "9131     157\n",
       "11033    146\n",
       "6309     145\n",
       "17653    143\n",
       "40618    143\n",
       "        ... \n",
       "31087      1\n",
       "31237      1\n",
       "9107       1\n",
       "30653      1\n",
       "17594      1\n",
       "Name: unit_id, Length: 2125, dtype: int64"
      ]
     },
     "execution_count": 10,
     "metadata": {},
     "output_type": "execute_result"
    }
   ],
   "source": [
    "# Find all reservations \n",
    "df['unit_id'].value_counts()"
   ]
  },
  {
   "cell_type": "markdown",
   "metadata": {},
   "source": [
    "#### Number of units that had a reservation = 2,125 units\n",
    "#### Number of total reservation in cleaned data = 72,456"
   ]
  },
  {
   "cell_type": "code",
   "execution_count": 11,
   "metadata": {},
   "outputs": [
    {
     "data": {
      "text/plain": [
       "1.3457402351367918"
      ]
     },
     "execution_count": 11,
     "metadata": {},
     "output_type": "execute_result"
    }
   ],
   "source": [
    "# Divide # of children (max = 53841) / # of reservations (72456)\n",
    "np.true_divide(72456, 53841)"
   ]
  },
  {
   "cell_type": "code",
   "execution_count": 12,
   "metadata": {},
   "outputs": [
    {
     "data": {
      "text/plain": [
       "0     53841\n",
       "2      6887\n",
       "1      4746\n",
       "3      3026\n",
       "4      2071\n",
       "5       777\n",
       "6       439\n",
       "8       203\n",
       "7       173\n",
       "10       82\n",
       "12       64\n",
       "9        55\n",
       "11       29\n",
       "15       22\n",
       "14       12\n",
       "13        9\n",
       "18        5\n",
       "16        4\n",
       "99        4\n",
       "19        3\n",
       "20        2\n",
       "17        2\n",
       "Name: child_guests, dtype: int64"
      ]
     },
     "execution_count": 12,
     "metadata": {},
     "output_type": "execute_result"
    }
   ],
   "source": [
    "df['child_guests'].value_counts()"
   ]
  },
  {
   "cell_type": "markdown",
   "metadata": {},
   "source": [
    "#### 309 is total # on left column added up. (not sure how to do this, need to research more).\n"
   ]
  },
  {
   "cell_type": "code",
   "execution_count": 13,
   "metadata": {},
   "outputs": [
    {
     "data": {
      "text/plain": [
       "0.004264657171248758"
      ]
     },
     "execution_count": 13,
     "metadata": {},
     "output_type": "execute_result"
    }
   ],
   "source": [
    "# divide total count (309) by total reservations \n",
    "np.true_divide(309,72456)"
   ]
  },
  {
   "cell_type": "markdown",
   "metadata": {},
   "source": [
    "#### Average number of children on a reservation = 4"
   ]
  },
  {
   "cell_type": "code",
   "execution_count": null,
   "metadata": {},
   "outputs": [],
   "source": []
  }
 ],
 "metadata": {
  "kernelspec": {
   "display_name": "Python [conda env:PythonData] *",
   "language": "python",
   "name": "conda-env-PythonData-py"
  },
  "language_info": {
   "codemirror_mode": {
    "name": "ipython",
    "version": 3
   },
   "file_extension": ".py",
   "mimetype": "text/x-python",
   "name": "python",
   "nbconvert_exporter": "python",
   "pygments_lexer": "ipython3",
   "version": "3.6.10"
  }
 },
 "nbformat": 4,
 "nbformat_minor": 4
}
